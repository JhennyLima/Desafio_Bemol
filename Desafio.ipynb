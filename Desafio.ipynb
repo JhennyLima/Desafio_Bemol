{
  "nbformat": 4,
  "nbformat_minor": 0,
  "metadata": {
    "colab": {
      "name": "Desafio.ipynb",
      "provenance": [],
      "collapsed_sections": []
    },
    "kernelspec": {
      "name": "python3",
      "display_name": "Python 3"
    }
  },
  "cells": [
    {
      "cell_type": "code",
      "metadata": {
        "id": "-eSguuHAYsRb",
        "colab_type": "code",
        "colab": {
          "base_uri": "https://localhost:8080/",
          "height": 363
        },
        "outputId": "84c4e8ec-3c53-4d96-ae47-b2477bbedb0e"
      },
      "source": [
        "import pandas as pd\n",
        "import matplotlib.pyplot as plt\n",
        "import numpy as np\n",
        "\n",
        "arquivosdados1 = pd.read_excel('dados.xlsx','realizado')\n",
        "arquivosdados2 = pd.read_excel('dados.xlsx','orcado')\n",
        "\n",
        "tabela1 = arquivosdados1.T.reset_index()\n",
        "tabela1.drop('index',inplace=True, axis=1)\n",
        "tabela1.columns = ['mês', 'Realizado']\n",
        "tabela1 = tabela1.drop(0)\n",
        "\n",
        "tabela2 = arquivosdados2.reset_index()\n",
        "tabela2.drop('index',inplace=True, axis=1)\n",
        "\n",
        "tabelageral = pd.merge(tabela2,tabela1, on='mês')\n",
        "tabelageral['diferenca'] = '0'\n",
        "\n",
        "for cont in tabelageral.itertuples():\n",
        "    tabelageral.diferenca[cont.Index] = tabelageral.orcado[cont.Index] - tabelageral.Realizado[cont.Index]\n",
        "tabelageral.to_csv('resultadofinal.csv', index=False)\n",
        "\n",
        "dados = open('resultadofinal.csv').readlines()\n",
        "\n",
        "x1 = []\n",
        "y1 = []\n",
        "x2 = []\n",
        "y2 = []\n",
        "\n",
        "for i in range(len(dados)):\n",
        "  if i != 0:\n",
        "    linha = dados[i].split(',')\n",
        "    x1.append(linha[0])\n",
        "    y1.append(linha[1])\n",
        "\n",
        "for i in range(len(dados)):\n",
        "  if i != 0:\n",
        "    linha = dados[i].split(',')\n",
        "    x2.append(linha[0])\n",
        "    y2.append(linha[2])\n",
        "\n",
        "y2=np.array(y2)\n",
        "y1=np.array(y1)\n",
        "\n",
        "mes = np.array(x1)\n",
        "orange = y2.astype(np.int)\n",
        "blue = y1.astype(np.int)\n",
        "ind = [x for x, _ in enumerate(mes)]\n",
        "plt.bar(ind, blue, width=0.8, label='Orcado', color='blue')\n",
        "plt.bar(ind, orange, width=0.8, label='Realizado', color='orange')\n",
        "\n",
        "plt.xticks(ind, mes)\n",
        "plt.ylabel(\"$\")\n",
        "plt.xlabel(\"Mes\")\n",
        "plt.legend(loc=\"upper right\")\n",
        "plt.title(\"Gráfico Orçamento\")\n",
        "\n",
        "plt.savefig('grafico.png', format='png')\n",
        "plt.show()\n"
      ],
      "execution_count": 4,
      "outputs": [
        {
          "output_type": "stream",
          "text": [
            "/usr/local/lib/python3.6/dist-packages/ipykernel_launcher.py:20: SettingWithCopyWarning: \n",
            "A value is trying to be set on a copy of a slice from a DataFrame\n",
            "\n",
            "See the caveats in the documentation: http://pandas.pydata.org/pandas-docs/stable/user_guide/indexing.html#returning-a-view-versus-a-copy\n"
          ],
          "name": "stderr"
        },
        {
          "output_type": "display_data",
          "data": {
            "image/png": "[encoded data removed]",
            "text/plain": [
              "<Figure size 432x288 with 1 Axes>"
            ]
          },
          "metadata": {
            "tags": []
          }
        }
      ]
    }
  ]
}